{
  "nbformat": 4,
  "nbformat_minor": 0,
  "metadata": {
    "colab": {
      "name": "Interrogating_dataframes.ipynb",
      "provenance": [],
      "collapsed_sections": []
    },
    "kernelspec": {
      "name": "python3",
      "display_name": "Python 3"
    },
    "language_info": {
      "name": "python"
    }
  },
  "cells": [
    {
      "cell_type": "markdown",
      "metadata": {
        "id": "1Gs0TsVUvHgr"
      },
      "source": [
        "# Interrogating the dataframe\n",
        "---\n",
        "\n",
        "We use pandas to create dataframes from data sets in files or online tables.\n",
        "\n",
        "Once we have the dataframe we might want to:  \n",
        "*   display a subset of rows\n",
        "*   *   we can do this using df.head(), df.tail() or df.loc[index]\n",
        "*   display a subset of columns\n",
        "*   *   we can do this using the column name as the key, e.g.   \n",
        "`                df['rain (mm)']`  \n",
        "*   *   we can display more than one column, simply by listing the columns in the square brackets, e.g.   \n",
        "`                df[['rain (mm)', 'tmin (degC)', 'sun (hours)']]`  \n",
        "*   *   and can dislay a subset of rows for a subset of columns, e.g.  \n",
        " `               df[['rain (mm)', 'tmax (degC)']].head(10)`\n",
        "\n",
        "\n"
      ]
    },
    {
      "cell_type": "markdown",
      "metadata": {
        "id": "rugxYQSIyHiR"
      },
      "source": [
        "### Exercise 1 - get the data, look at first 10 records\n",
        "---\n",
        "\n",
        "\n",
        "1.  Import the pandas library with the alias pd  \n",
        "2.  Read the sheet with the name \"Industry Migration\" from the Excel file from this link: https://github.com/futureCodersSE/working-with-data/blob/main/Data%20sets/public_use-talent-migration.xlsx?raw=true  (*Hint:  use pd.read_excel(url, sheet_name=\"Industry Migration\") with the above url.*)\n",
        "3.  display the first 10 rows of the data\n",
        "\n",
        "**Test output**:  \n",
        "10 rows, 13 columns\n",
        "\n"
      ]
    },
    {
      "cell_type": "code",
      "metadata": {
        "id": "WHEnQlll1vyL"
      },
      "source": [
        ""
      ],
      "execution_count": null,
      "outputs": []
    },
    {
      "cell_type": "markdown",
      "metadata": {
        "id": "dBsdAsk43aoX"
      },
      "source": [
        "### Exercise 2 - display just two columns\n",
        "\n",
        "Display the first 50 records focusing on the industries where migration is happening in each country (show just country_name and industry_name).\n",
        "\n",
        "**Test output**:  \n",
        "Rows from 0 to 49, country_name and industry_name columns  "
      ]
    },
    {
      "cell_type": "code",
      "metadata": {
        "id": "rDEzOpDXvGx0"
      },
      "source": [
        ""
      ],
      "execution_count": null,
      "outputs": []
    },
    {
      "cell_type": "markdown",
      "metadata": {
        "id": "ZIsrvFNjAuWE"
      },
      "source": [
        "### Exercise 3 - yearly migration\n",
        "---\n",
        "\n",
        "*   display the middle 20 records (use the shape of the dataframe to help you identify the index positions of these), showing the country_name and the migration for each of the years 2015 to 2019.  \n",
        "\n",
        "**Test output**:  \n",
        "Rows from 2637 to 2656, 6 columns (country_name and net_per_10K_ for 2015 to 2019)\n"
      ]
    },
    {
      "cell_type": "code",
      "metadata": {
        "id": "yXpe9SuBBloC"
      },
      "source": [
        ""
      ],
      "execution_count": null,
      "outputs": []
    },
    {
      "cell_type": "markdown",
      "metadata": {
        "id": "2wfsDcuvBl7o"
      },
      "source": [
        "### Exercise 4 - migration to and from\n",
        "---\n",
        "\n",
        "The Excel file at this link (which you have already opened above): https://github.com/futureCodersSE/working-with-data/blob/main/Data%20sets/public_use-talent-migration.xlsx?raw=true has three data sheets, \"Country Migration\", \"Industry Migration\" and \"Skill Migration\"\n",
        "\n",
        "Open the data sheet \"Country Migration\" and display the first 10 records showing the country that migration was to, the country it was from and the net migration for each year from 2015 to 2019\n",
        "\n",
        "**Test output**:  \n",
        "10 rows, 7 columns"
      ]
    },
    {
      "cell_type": "code",
      "metadata": {
        "id": "Q2tyWrG7-UAW"
      },
      "source": [
        ""
      ],
      "execution_count": null,
      "outputs": []
    },
    {
      "cell_type": "markdown",
      "metadata": {
        "id": "vb9QQv_VBHVk"
      },
      "source": [
        "### Exercise 5 - unique countries\n",
        "\n",
        "Using the \"Country Migration\" sheet, get all the unique country names from where people have migrated (base_country_name) and use a for loop to print a list of the countries.\n",
        "\n",
        "**Test output**:  \n",
        "'United Arab Emirates'  \n",
        "'Afghanistan'  \n",
        "'Albania'  \n",
        "'Armenia'  \n",
        "'Angola'  \n",
        "'Argentina'  \n",
        "'Austria'  \n",
        "'Australia'  \n",
        "'Azerbaijan'  \n",
        "'Bosnia and Herzegovina'  \n",
        "'Bangladesh'  \n",
        "...  \n",
        "...  \n",
        "'Zambia'  \n",
        "'Zimbabwe'  "
      ]
    },
    {
      "cell_type": "code",
      "metadata": {
        "id": "f6uCYdEHBw1f"
      },
      "source": [
        "\n"
      ],
      "execution_count": null,
      "outputs": []
    },
    {
      "cell_type": "markdown",
      "metadata": {
        "id": "SQNg0Sk5FaJ3"
      },
      "source": [
        "### Exercise 6 - how many countries are migrated to\n",
        "\n",
        "Using the \"Country Migration\" sheet again, get all the unique country names to where people have migrated and display the number of unique countries.\n",
        "\n",
        "*Hint:  you can use len() for this.*\n",
        "\n",
        "**Test output**:  \n",
        "140  \n"
      ]
    },
    {
      "cell_type": "code",
      "metadata": {
        "id": "SCidja1FFySO"
      },
      "source": [
        ""
      ],
      "execution_count": null,
      "outputs": []
    },
    {
      "cell_type": "markdown",
      "metadata": {
        "id": "qyjM39DzFy3t"
      },
      "source": [
        "### Exercise 7 - skill sets\n",
        "---\n",
        "\n",
        "\n",
        "Using the \"Skill Migration\" data sheet, display the following:\n",
        "*  the first record\n",
        "*  the last 10 records\n",
        "*  records from index 500 to index 600  \n",
        "*  a count of all unique countries\n",
        "*  a list of all unique skill group categories\n",
        "*  the first 50 skill group names and net migration in 2019\n",
        "\n",
        "**Test output**:  \n",
        "First record - index 0, 12 columns  \n",
        "Last 10 records - 10 rows (17607 to 17616), 12 columns  \n",
        "Records from 500 to 600, 12 columns  \n",
        "140 unique countries  \n",
        "Skills groups categories - array(['Tech Skills', 'Business Skills', 'Specialized Industry Skills','Disruptive Tech Skills', 'Soft Skills'], dtype=object)  \n",
        "50 rows of skills group names and net migration numbered 0 to 49   \n"
      ]
    },
    {
      "cell_type": "code",
      "metadata": {
        "id": "EWGy5iQHG8vA"
      },
      "source": [
        ""
      ],
      "execution_count": null,
      "outputs": []
    },
    {
      "cell_type": "markdown",
      "metadata": {
        "id": "V_v89VIqG9Lq"
      },
      "source": [
        "### Exercise 8 - total net migration over 5 years\n",
        "---\n",
        "\n",
        "Using the Country Migration data sheet, display the record at position 10.  Using the column names to access the data in each column, add the five columns containing the net migration data together to calculate the total net migration over the 5 years between 2015 and 2019.\n",
        "\n",
        "**Test output**:  \n",
        "base_country_code                                   ae  \n",
        "base_country_name                 United Arab Emirates  \n",
        "base_lat                                       23.4241  \n",
        "base_long                                      53.8478  \n",
        "base_country_wb_income                     High Income  \n",
        "base_country_wb_region      Middle East & North Africa  \n",
        "target_country_code                                 by  \n",
        "target_country_name                            Belarus  \n",
        "target_lat                                     53.7098  \n",
        "target_long                                    27.9534  \n",
        "target_country_wb_income           Upper Middle Income  \n",
        "target_country_wb_region         Europe & Central Asia  \n",
        "net_per_10K_2015                                  0.12  \n",
        "net_per_10K_2016                                  0.12  \n",
        "net_per_10K_2017                                  0.11  \n",
        "net_per_10K_2018                                  0.12  \n",
        "net_per_10K_2019                                   0.1  \n",
        "Name: 10, dtype: object  \n",
        "0.57"
      ]
    },
    {
      "cell_type": "code",
      "metadata": {
        "id": "YTov4W2dILe2"
      },
      "source": [
        ""
      ],
      "execution_count": null,
      "outputs": []
    },
    {
      "cell_type": "markdown",
      "metadata": {
        "id": "cFffYI2qJJI-"
      },
      "source": [
        "### Exercise 9 - formulating a text response\n",
        "\n",
        "Using the Industry Migration data sheet, display the record at position 100.  Using the column names again to access the data in each column, calculate net migration over the 5 years from 2015 to 2019.\n",
        "\n",
        "Then print the following message, adding the data where indicated:\n",
        "\n",
        "The total net migration into `country` of skilled workers for the `industry name` industry, during the years 2015-2019 was `total_net_migration`  \n",
        "\n",
        "**Test output**:  \n",
        "country_code                                          ae  \n",
        "country_name                        United Arab Emirates  \n",
        "wb_income                                    High income  \n",
        "wb_region                     Middle East & North Africa  \n",
        "isic_section_index                                     K  \n",
        "isic_section_name     Financial and insurance activities  \n",
        "industry_id                                          129  \n",
        "industry_name                            Capital Markets  \n",
        "net_per_10K_2015                                 1345.11  \n",
        "net_per_10K_2016                                  483.35  \n",
        "net_per_10K_2017                                  606.94  \n",
        "net_per_10K_2018                                  735.88  \n",
        "net_per_10K_2019                                  240.44  \n",
        "Name: 100, dtype: object  \n",
        "The total net migration into United Arab Emirates of skilled workers for the Capital Markets industry, during the years 2015-2019 was 3411.7200000000003  "
      ]
    },
    {
      "cell_type": "code",
      "metadata": {
        "id": "YfqF3sxrkdZU"
      },
      "source": [
        ""
      ],
      "execution_count": null,
      "outputs": []
    },
    {
      "cell_type": "markdown",
      "metadata": {
        "id": "AGqV7ySKKadV"
      },
      "source": [
        "### Exercise 10 - five text responses\n",
        "\n",
        "Using the Industry Migration data sheet, calculate net migration (rounded to 1 decimal place) over the 5 years from 2015 to 2019 for the records at positions 1 to 5 and print the following message for each, adding the data where indicated:\n",
        "\n",
        "The total net migration into `country` of skilled workers for the `industry name` industry, during the years 2015-2019 was `total_net_migration`\n",
        "\n",
        "*Hint: use a for loop to get a record and do each calculation*  \n",
        "\n",
        "**Test output**:  \n",
        "The total net migration into United Arab Emirates of skilled workers for the Computer Hardware industry, during the years 2015-2019 was 3411.7200000000003  \n",
        "The total net migration into United Arab Emirates of skilled workers for the Computer Software industry, during the years 2015-2019 was 3411.7200000000003  \n",
        "The total net migration into United Arab Emirates of skilled workers for the Computer Networking industry, during the years 2015-2019 was 3411.7200000000003  \n",
        "The total net migration into United Arab Emirates of skilled workers for the Internet industry, during the years 2015-2019 was 3411.7200000000003  \n",
        "The total net migration into United Arab Emirates of skilled workers for the Telecommunications industry, during the years 2015-2019 was 3411.7200000000003  "
      ]
    },
    {
      "cell_type": "code",
      "metadata": {
        "id": "dYlVTLOGNoOO"
      },
      "source": [
        ""
      ],
      "execution_count": null,
      "outputs": []
    },
    {
      "cell_type": "markdown",
      "metadata": {
        "id": "yQyytEbnZ1lw"
      },
      "source": [
        "# Reflection\n",
        "----\n",
        "\n",
        "## What skills have you demonstrated in completing this notebook?"
      ]
    },
    {
      "cell_type": "markdown",
      "metadata": {
        "id": "M9IqO6KNbSUk"
      },
      "source": [
        "Your answer: "
      ]
    },
    {
      "cell_type": "markdown",
      "metadata": {
        "id": "Zgexd27sZ1ly"
      },
      "source": [
        "## What caused you the most difficulty?"
      ]
    },
    {
      "cell_type": "markdown",
      "metadata": {
        "id": "aDYmIIcEbT7x"
      },
      "source": [
        "Your answer: "
      ]
    }
  ]
}