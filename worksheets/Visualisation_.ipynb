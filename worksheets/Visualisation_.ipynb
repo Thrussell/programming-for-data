{
  "nbformat": 4,
  "nbformat_minor": 0,
  "metadata": {
    "kernelspec": {
      "display_name": "Python 3",
      "language": "python",
      "name": "python3"
    },
    "language_info": {
      "codemirror_mode": {
        "name": "ipython",
        "version": 3
      },
      "file_extension": ".py",
      "mimetype": "text/x-python",
      "name": "python",
      "nbconvert_exporter": "python",
      "pygments_lexer": "ipython3",
      "version": "3.8.5"
    },
    "colab": {
      "name": "Visualisation .ipynb",
      "provenance": [],
      "collapsed_sections": []
    }
  },
  "cells": [
    {
      "cell_type": "markdown",
      "metadata": {
        "id": "9HLbtdkaCYT8"
      },
      "source": [
        "# Visualising the data\n",
        "---\n",
        "\n",
        "There are a good number of libraries available containing functions for visualising data with bar charts, pie charts, line plots, box plots, scatter plots and, in some libraries, with more image based visualisations.\n",
        "\n",
        "To keep it relatively simple, we will start with matplotlib, a widely used library with a wide range of visualisation functions (pyplot functions) for data sets and mathematical equations.  It has the main functions we will use in this course:\n",
        "*  bar charts\n",
        "*  pie charts\n",
        "*  line plots\n",
        "*  box plots\n",
        "*  scatter plots\n",
        "*  histogram\n",
        "\n",
        "Each requires these things:  \n",
        "1. Select the data columns to be plotted \n",
        "2. Prepare the data (remove null values, clean formats, etc)  \n",
        "3. Run the function for the required plot\n",
        "\n",
        "Once you have the hang of these, you can start to look at labelling, colouring, etc.\n",
        "\n",
        "In order to begin creating visualisations, you need to:  \n",
        "* import **matplotlib.pyplot** as **plt**\n",
        "\n",
        "Test output for all Exercises is [here](https://docs.google.com/presentation/d/e/2PACX-1vSqdTg47YlYie7ld1QHapcbUMYiYdlIg04gN4P0OsnCWH02oRlrmsgMVXAobtgD8IiM_0tr35IsEZxl/pub?start=false&loop=false&delayms=3000)"
      ]
    },
    {
      "cell_type": "markdown",
      "metadata": {
        "id": "QLAkYsH8CYUA"
      },
      "source": [
        "#  Bar charts and Line Plots\n",
        "---\n",
        "\n",
        "For these exercises, use the Excel data file:\n",
        "\n",
        "'public-use-talent-migration' looking at sheet_name 'Country Migration'  \n",
        "https://github.com/futureCodersSE/working-with-data/blob/main/Data%20sets/public_use-talent-migration.xlsx?raw=true \n",
        "\n",
        "**Example**:  \n",
        "\n",
        "Watch the video [here](https://drive.google.com/file/d/1eNOy7fhkB2CSfVdb66kqB66qXfoPfOpd/view?usp=sharing) - demonstration of creating a bar chart using the `matplotlib` library `pyplot`.  Then have a go at creating it yourself.\n",
        "\n"
      ]
    },
    {
      "cell_type": "markdown",
      "metadata": {
        "id": "3uJhU8yaCYUB"
      },
      "source": [
        "### Exercise 1 - Creating a Bar chart for yearly migration\n",
        "---\n",
        "Create a bar chart which shows the total net migration for the years 2015-2019  \n",
        " \n",
        "* split the net migration columns into a new dataframe\n",
        "* create a series from the max() values of the five columns\n",
        "* create a labels variable, this time just create a list of the 5 years ['2015','2016','2017','2018','2019']\n",
        "* plot the bar chart\n",
        "\n",
        "***Presentation tips***:\n",
        "* use plt.xlabel('Year') and plt.ylabel('Total net migration') to name your axis \n",
        "* display your bar graph with plt.show "
      ]
    },
    {
      "cell_type": "code",
      "metadata": {
        "id": "GSxnxPruCYUB"
      },
      "source": [
        ""
      ],
      "execution_count": null,
      "outputs": []
    },
    {
      "cell_type": "markdown",
      "metadata": {
        "id": "I2aZcp1BCYUC"
      },
      "source": [
        "### Exercise 2 - creating a bar graph using grouped data \n",
        "---\n",
        "\n",
        "Create a horizontal bar chart of 2019 mean immigration for each income level ('`target_country_wb_income`')\n",
        "\n",
        "* create a data variable which contains the means, grouped by '`target_country_wb_income`' \n",
        "* extract your labels (x) using the .keys() function \n",
        "* use the plt.barh(x, y) to create a horizontal bar graph \n",
        "* add labels to the axes ('Year', 'Net Migration')  \n",
        "* show the plot  \n",
        "\n",
        "Try using plt.bar(x,y) - can you see why horizontally is more appropriate?"
      ]
    },
    {
      "cell_type": "code",
      "metadata": {
        "id": "dwA00WfRCYUC"
      },
      "source": [
        ""
      ],
      "execution_count": null,
      "outputs": []
    },
    {
      "cell_type": "markdown",
      "metadata": {
        "id": "jR-B9Tr2CYUA"
      },
      "source": [
        "### Exercise 3 - Line plot of net migration \n",
        "--- \n",
        "\n",
        "Creating a line plot of mean net migration over the years 2015 to 2019\n",
        "\n",
        "* create a new dataframe containing only the five columns holding net migration\n",
        "* create a new data variable to hold the means of the five columns\n",
        "* create a labels variable to hold the keys (column headings) \n",
        "* use plt.plot(x, y) to plot your line chart\n",
        "\n",
        "***Presentation tips:***   \n",
        "Plot the chart, then add formatting, then show the plot   \n",
        "\n",
        "Rotate the x-axis labels in the plot:  \n",
        "`plt.xticks(rotation=45)`  \n",
        "\n",
        "Show the grid:  \n",
        "`plt.grid()`  \n",
        "\n",
        "When all formatting has been done, show the plot:   \n",
        "`plt.show()`"
      ]
    },
    {
      "cell_type": "code",
      "metadata": {
        "id": "laCX5LlMCYUD"
      },
      "source": [
        ""
      ],
      "execution_count": null,
      "outputs": []
    },
    {
      "cell_type": "markdown",
      "metadata": {
        "id": "HDt8ROZqCYUD"
      },
      "source": [
        "# Pie Charts, Box Plots, Scatter Plots and Histograms\n",
        "---\n",
        "\n",
        "For the remaining exercises you will use the Psychology dataset: \"https://github.com/lilaceri/Working-with-data-/blob/b157a2feceb7709cf82426932385706d65446270/Data%20Sets%20for%20code%20divisio/Positive_Psychology_2017.csv?raw=true\"\n",
        "\n",
        "To get the data ready:\n",
        "\n",
        "* read csv file above and save into a new variable called `psych_data`"
      ]
    },
    {
      "cell_type": "code",
      "metadata": {
        "id": "8xrF0C0nMZgY"
      },
      "source": [
        ""
      ],
      "execution_count": null,
      "outputs": []
    },
    {
      "cell_type": "markdown",
      "metadata": {
        "id": "bp04N0L5CYUE"
      },
      "source": [
        "### Exercise 4 - Creating a pie chart showing distribution of first languages\n",
        "---\n",
        "Create a pie chart which shows the distribution of students who speak different languages are.   \n",
        "\n",
        "To do this:\n",
        "\n",
        "* similar to Exercise 2 - create a new dataframe which groups the data by firstlanguage and contains just the 'firstlanguage' column  \n",
        "* store the counts for 'firstlanguage' in a variable called language_count\n",
        "* extract your labels using the keys() function\n",
        "* plot your pie chart using plt.pie(data, labels = labels)\n",
        "* write a comment noting anything interesting about the visualisation\n",
        "\n"
      ]
    },
    {
      "cell_type": "code",
      "metadata": {
        "id": "U4O3bCW4CYUE"
      },
      "source": [
        ""
      ],
      "execution_count": null,
      "outputs": []
    },
    {
      "cell_type": "markdown",
      "metadata": {
        "id": "vcBOivbcYCHx"
      },
      "source": [
        "**Write your comment here**:  "
      ]
    },
    {
      "cell_type": "markdown",
      "metadata": {
        "id": "xmoUMgCDCYUF"
      },
      "source": [
        "### Exercise 5 - Creating a box plot from Wellbeing data column\n",
        "---\n",
        "A box plot is used to visualise summary infomation about a data series such as the min, max, median and quartiles.  They can show outliers (unusually high or low values that are not typical of the general distribution of values, marked on the plot as a circle or dot outside the 'whiskers').\n",
        "\n",
        "Create a box plot of the Wellbeing scores\n",
        "can\n",
        "*  split off the wellbeing column to isolate the data  \n",
        "*  use plt.boxplot(data) to create boxplot and show any outliers (it will do this by default - they are shown as small circles at one, or both ends of the plot) "
      ]
    },
    {
      "cell_type": "code",
      "metadata": {
        "collapsed": true,
        "id": "gUEIP5THCYUF"
      },
      "source": [
        ""
      ],
      "execution_count": null,
      "outputs": []
    },
    {
      "cell_type": "markdown",
      "metadata": {
        "id": "v-C-aiMHCYUI"
      },
      "source": [
        "### Exercise 6 - Create a histogram from age data \n",
        "---\n",
        "\n",
        "Create a histogram which shows the frequency distribution for `Wellbeing`.\n",
        "\n",
        "* split the `Wellbeing` column off to provide the data\n",
        "* plot the histogram using `plt.hist(data)` \n",
        "* add the label `Wellbeing` to the x-axis and `Frequency` to the y-axis\n",
        "* change the colours of the bars - try plt.hist(x, color = 'red')\n",
        "* show the plot (plt.show())\n"
      ]
    },
    {
      "cell_type": "code",
      "metadata": {
        "id": "J8Yf3kNxCYUI"
      },
      "source": [
        ""
      ],
      "execution_count": null,
      "outputs": []
    },
    {
      "cell_type": "markdown",
      "metadata": {
        "id": "vFMYfsBZCYUJ"
      },
      "source": [
        "### Exercise 7 - Create a scatterplot using Wellbeing and Stress data\n",
        "---\n",
        "\n",
        "Create a scatterplot of Wellbeing and Stress data.\n",
        "\n",
        "* create **x** from the `Stress` column\n",
        "* create *y* from the `Wellbeing` column\n",
        "* use `plt.scatter(x,y)` to create a scatterplot\n",
        "* set x axis and y axis labels to '`Stress`' and '`Wellbeing`'\n",
        "* show the plot \n",
        "\n",
        "Write a short data story ( a description of the data.  What conclusion could be reached from the chart?  How confident could you be in this conclusion and why?\n",
        "\n"
      ]
    },
    {
      "cell_type": "code",
      "metadata": {
        "id": "H6rOmFj4CYUJ"
      },
      "source": [
        ""
      ],
      "execution_count": null,
      "outputs": []
    },
    {
      "cell_type": "markdown",
      "metadata": {
        "id": "UmlIbxwgZKvA"
      },
      "source": [
        "**Write your data story here**: "
      ]
    },
    {
      "cell_type": "markdown",
      "metadata": {
        "id": "Yw77TwzRCYUK"
      },
      "source": [
        "# Using seaborn to create more advanced visuals\n",
        "---\n",
        "\n",
        "Seaborn is another python package based upon matplotlib. It is useful for creating more attractive visualisations and also specialises in statistical visualisations so can often provide more insightful visualisations. \n",
        "\n",
        "In order to use seaborn use the following:   \n",
        "\n",
        "``` import seaborn as sns ```\n",
        "\n",
        "Similar to matplotlib, you can use seaborn to display all the above visualisations such as:\n",
        "\n",
        "**bar chart** \n",
        "\n",
        "`sns.barplot(x = '...', y = '..', data = '...')`\n",
        "\n",
        "**box plot**     \n",
        "1. box plot with 1 variable, landscape   \n",
        "`sns.boxplot(x=\"...\", data='...')` \n",
        "2. boxplot with 1 variable,  portrait   \n",
        "`sns.boxplot(y=\"...\", data='...')` \n",
        "3. box plot 2 variables, x against y   \n",
        "`sns.boxplot(x=\"...\", y=\"....\", data='...')`\n",
        "\n",
        "**scatter plot**\n",
        "\n",
        "`sns.lmplot(x='..', y='..', data='...')`\n",
        "\n",
        "### As well as some more complex visualisations:\n",
        "\n",
        "**scatter plot with line of best fit**\n",
        "\n",
        "`sns.regplot(x=\"...\", y=\"...\", data= '...')`\n",
        "\n",
        "**histogram plot (of distribution)**\n",
        "\n",
        "`sns.distplot(dataframe['column'])`   \n",
        "*if you add* `,bins= ... ` *you can set the number of bins (bars) in your chart*\n",
        "\n",
        "**correlation heatmap matrix** \n",
        "\n",
        "`correlation_matrix = dataframe.corr().round(2)`\n",
        "\n",
        "`sns.heatmap(data=correlation_matrix, annot=True)`  \n",
        "Use `annot = True` *to print the correlation values inside the square*\n",
        "\n",
        "\n",
        "\n",
        "\n",
        "**For the next few exercises you will continue using the positive psychology dataset**"
      ]
    },
    {
      "cell_type": "markdown",
      "metadata": {
        "id": "UjsjO73XCYUK"
      },
      "source": [
        "### Exercise 8 - Create a scatter plot with a line of best fit\n",
        "---\n",
        "\n",
        "Use seaborn to create a scatterplot with a line of best fit of Wellbeing (x) and Stress (y)\n",
        "* use `sns.regplot`"
      ]
    },
    {
      "cell_type": "code",
      "metadata": {
        "id": "GzVfmVPzCYUK"
      },
      "source": [
        ""
      ],
      "execution_count": null,
      "outputs": []
    },
    {
      "cell_type": "markdown",
      "metadata": {
        "id": "bknRpcpfCYUL"
      },
      "source": [
        "### Exercise 9 - Create a box plot \n",
        "---\n",
        "Use seaborn to create a portrait box plot of Stress data\n",
        "* use `sns.boxplot`\n",
        "* can you see any outliers?"
      ]
    },
    {
      "cell_type": "code",
      "metadata": {
        "id": "pNXj4YIhCYUL"
      },
      "source": [
        ""
      ],
      "execution_count": null,
      "outputs": []
    },
    {
      "cell_type": "markdown",
      "metadata": {
        "id": "S5qhuChwCYUL"
      },
      "source": [
        "### Exercise 10 - Correlation matrix \n",
        "---\n",
        "Create a correlation heatmap matrix using seaborn to show the correlation coefficient (confidence the one value can predict the other - the nearer to 1, the stronger the correlation) between all columns in the dataframe\n",
        "\n",
        "* Set the correlation matrix into a variable using the .corr() function \n",
        "* Create a heatmap using `sns.heatmap` of the correlation matrix \n",
        "(You can add `cmap='BrBG'` to the heatmap parameter list to change the colour scheme)\n",
        "\n",
        "Explain which variables seem to be correlated fairly strongly with which other variables."
      ]
    },
    {
      "cell_type": "code",
      "metadata": {
        "id": "O4-9jov4CYUL"
      },
      "source": [
        ""
      ],
      "execution_count": null,
      "outputs": []
    },
    {
      "cell_type": "markdown",
      "metadata": {
        "id": "zZeJ2KrLfo70"
      },
      "source": [
        "**Describe the correlation between variables here**:  "
      ]
    },
    {
      "cell_type": "markdown",
      "metadata": {
        "id": "8YTsyOCjCYUM"
      },
      "source": [
        "# Reflection\n",
        "----\n",
        "\n",
        "## What skills have you demonstrated in completing this notebook?"
      ]
    },
    {
      "cell_type": "markdown",
      "metadata": {
        "id": "eQZFgzjvCYUM"
      },
      "source": [
        "Your answer here:"
      ]
    },
    {
      "cell_type": "markdown",
      "metadata": {
        "id": "hWleoi7-CYUM"
      },
      "source": [
        "## What caused you the most difficulty?"
      ]
    },
    {
      "cell_type": "markdown",
      "metadata": {
        "id": "IKSHnYcgCYUM"
      },
      "source": [
        "Your answer here:"
      ]
    }
  ]
}